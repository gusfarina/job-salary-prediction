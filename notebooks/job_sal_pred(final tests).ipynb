{
 "cells": [
  {
   "cell_type": "markdown",
   "id": "5e1f940e",
   "metadata": {},
   "source": [
    "### Imports"
   ]
  },
  {
   "cell_type": "code",
   "execution_count": 1,
   "id": "f5764b57",
   "metadata": {},
   "outputs": [],
   "source": [
    "import re\n",
    "import string\n",
    "import pandas as pd\n",
    "import numpy as np\n",
    "from numpy import absolute\n",
    "\n",
    "from sklearn.feature_extraction.text import TfidfVectorizer\n",
    "from sklearn.preprocessing import LabelEncoder\n",
    "\n",
    "from sklearn.model_selection import train_test_split\n",
    "from sklearn.model_selection import RepeatedKFold\n",
    "from sklearn.model_selection import KFold\n",
    "from sklearn.model_selection import cross_val_score\n",
    "\n",
    "from sklearn.metrics import precision_score, recall_score, accuracy_score\n",
    "from sklearn.metrics import mean_squared_error\n",
    "from sklearn.metrics import mean_absolute_error\n",
    "\n",
    "from sklearn.linear_model import LinearRegression\n",
    "from sklearn.svm import SVR\n",
    "\n",
    "import xgboost as xgb\n",
    "from xgboost import XGBRegressor"
   ]
  },
  {
   "cell_type": "code",
   "execution_count": 2,
   "id": "7c0b1ed5",
   "metadata": {},
   "outputs": [],
   "source": [
    "import nltk\n",
    "try:\n",
    "    nltk.download('stopwords', quiet=True)\n",
    "    nltk.download('punkt', quiet=True)\n",
    "except FileExistsError:\n",
    "    pass\n",
    "\n",
    "from nltk.corpus import stopwords\n",
    "from nltk.tokenize import word_tokenize"
   ]
  },
  {
   "cell_type": "markdown",
   "id": "89b08a6c",
   "metadata": {},
   "source": [
    "### Importing and analyzing the dataset"
   ]
  },
  {
   "cell_type": "code",
   "execution_count": 3,
   "id": "3eb8853b",
   "metadata": {},
   "outputs": [],
   "source": [
    "train = pd.read_csv(\"../datasets/Train_rev1.csv\")"
   ]
  },
  {
   "cell_type": "code",
   "execution_count": 4,
   "id": "a7e383ef",
   "metadata": {},
   "outputs": [
    {
     "data": {
      "text/html": [
       "<div>\n",
       "<style scoped>\n",
       "    .dataframe tbody tr th:only-of-type {\n",
       "        vertical-align: middle;\n",
       "    }\n",
       "\n",
       "    .dataframe tbody tr th {\n",
       "        vertical-align: top;\n",
       "    }\n",
       "\n",
       "    .dataframe thead th {\n",
       "        text-align: right;\n",
       "    }\n",
       "</style>\n",
       "<table border=\"1\" class=\"dataframe\">\n",
       "  <thead>\n",
       "    <tr style=\"text-align: right;\">\n",
       "      <th></th>\n",
       "      <th>Id</th>\n",
       "      <th>Title</th>\n",
       "      <th>FullDescription</th>\n",
       "      <th>LocationRaw</th>\n",
       "      <th>LocationNormalized</th>\n",
       "      <th>ContractType</th>\n",
       "      <th>ContractTime</th>\n",
       "      <th>Company</th>\n",
       "      <th>Category</th>\n",
       "      <th>SalaryRaw</th>\n",
       "      <th>SalaryNormalized</th>\n",
       "      <th>SourceName</th>\n",
       "    </tr>\n",
       "  </thead>\n",
       "  <tbody>\n",
       "    <tr>\n",
       "      <th>0</th>\n",
       "      <td>12612628</td>\n",
       "      <td>Engineering Systems Analyst</td>\n",
       "      <td>Engineering Systems Analyst Dorking Surrey Sal...</td>\n",
       "      <td>Dorking, Surrey, Surrey</td>\n",
       "      <td>Dorking</td>\n",
       "      <td>NaN</td>\n",
       "      <td>permanent</td>\n",
       "      <td>Gregory Martin International</td>\n",
       "      <td>Engineering Jobs</td>\n",
       "      <td>20000 - 30000/annum 20-30K</td>\n",
       "      <td>25000</td>\n",
       "      <td>cv-library.co.uk</td>\n",
       "    </tr>\n",
       "    <tr>\n",
       "      <th>1</th>\n",
       "      <td>12612830</td>\n",
       "      <td>Stress Engineer Glasgow</td>\n",
       "      <td>Stress Engineer Glasgow Salary **** to **** We...</td>\n",
       "      <td>Glasgow, Scotland, Scotland</td>\n",
       "      <td>Glasgow</td>\n",
       "      <td>NaN</td>\n",
       "      <td>permanent</td>\n",
       "      <td>Gregory Martin International</td>\n",
       "      <td>Engineering Jobs</td>\n",
       "      <td>25000 - 35000/annum 25-35K</td>\n",
       "      <td>30000</td>\n",
       "      <td>cv-library.co.uk</td>\n",
       "    </tr>\n",
       "    <tr>\n",
       "      <th>2</th>\n",
       "      <td>12612844</td>\n",
       "      <td>Modelling and simulation analyst</td>\n",
       "      <td>Mathematical Modeller / Simulation Analyst / O...</td>\n",
       "      <td>Hampshire, South East, South East</td>\n",
       "      <td>Hampshire</td>\n",
       "      <td>NaN</td>\n",
       "      <td>permanent</td>\n",
       "      <td>Gregory Martin International</td>\n",
       "      <td>Engineering Jobs</td>\n",
       "      <td>20000 - 40000/annum 20-40K</td>\n",
       "      <td>30000</td>\n",
       "      <td>cv-library.co.uk</td>\n",
       "    </tr>\n",
       "    <tr>\n",
       "      <th>3</th>\n",
       "      <td>12613049</td>\n",
       "      <td>Engineering Systems Analyst / Mathematical Mod...</td>\n",
       "      <td>Engineering Systems Analyst / Mathematical Mod...</td>\n",
       "      <td>Surrey, South East, South East</td>\n",
       "      <td>Surrey</td>\n",
       "      <td>NaN</td>\n",
       "      <td>permanent</td>\n",
       "      <td>Gregory Martin International</td>\n",
       "      <td>Engineering Jobs</td>\n",
       "      <td>25000 - 30000/annum 25K-30K negotiable</td>\n",
       "      <td>27500</td>\n",
       "      <td>cv-library.co.uk</td>\n",
       "    </tr>\n",
       "    <tr>\n",
       "      <th>4</th>\n",
       "      <td>12613647</td>\n",
       "      <td>Pioneer, Miser Engineering Systems Analyst</td>\n",
       "      <td>Pioneer, Miser  Engineering Systems Analyst Do...</td>\n",
       "      <td>Surrey, South East, South East</td>\n",
       "      <td>Surrey</td>\n",
       "      <td>NaN</td>\n",
       "      <td>permanent</td>\n",
       "      <td>Gregory Martin International</td>\n",
       "      <td>Engineering Jobs</td>\n",
       "      <td>20000 - 30000/annum 20-30K</td>\n",
       "      <td>25000</td>\n",
       "      <td>cv-library.co.uk</td>\n",
       "    </tr>\n",
       "  </tbody>\n",
       "</table>\n",
       "</div>"
      ],
      "text/plain": [
       "         Id                                              Title  \\\n",
       "0  12612628                        Engineering Systems Analyst   \n",
       "1  12612830                            Stress Engineer Glasgow   \n",
       "2  12612844                   Modelling and simulation analyst   \n",
       "3  12613049  Engineering Systems Analyst / Mathematical Mod...   \n",
       "4  12613647         Pioneer, Miser Engineering Systems Analyst   \n",
       "\n",
       "                                     FullDescription  \\\n",
       "0  Engineering Systems Analyst Dorking Surrey Sal...   \n",
       "1  Stress Engineer Glasgow Salary **** to **** We...   \n",
       "2  Mathematical Modeller / Simulation Analyst / O...   \n",
       "3  Engineering Systems Analyst / Mathematical Mod...   \n",
       "4  Pioneer, Miser  Engineering Systems Analyst Do...   \n",
       "\n",
       "                         LocationRaw LocationNormalized ContractType  \\\n",
       "0            Dorking, Surrey, Surrey            Dorking          NaN   \n",
       "1        Glasgow, Scotland, Scotland            Glasgow          NaN   \n",
       "2  Hampshire, South East, South East          Hampshire          NaN   \n",
       "3     Surrey, South East, South East             Surrey          NaN   \n",
       "4     Surrey, South East, South East             Surrey          NaN   \n",
       "\n",
       "  ContractTime                       Company          Category  \\\n",
       "0    permanent  Gregory Martin International  Engineering Jobs   \n",
       "1    permanent  Gregory Martin International  Engineering Jobs   \n",
       "2    permanent  Gregory Martin International  Engineering Jobs   \n",
       "3    permanent  Gregory Martin International  Engineering Jobs   \n",
       "4    permanent  Gregory Martin International  Engineering Jobs   \n",
       "\n",
       "                                SalaryRaw  SalaryNormalized        SourceName  \n",
       "0              20000 - 30000/annum 20-30K             25000  cv-library.co.uk  \n",
       "1              25000 - 35000/annum 25-35K             30000  cv-library.co.uk  \n",
       "2              20000 - 40000/annum 20-40K             30000  cv-library.co.uk  \n",
       "3  25000 - 30000/annum 25K-30K negotiable             27500  cv-library.co.uk  \n",
       "4              20000 - 30000/annum 20-30K             25000  cv-library.co.uk  "
      ]
     },
     "execution_count": 4,
     "metadata": {},
     "output_type": "execute_result"
    }
   ],
   "source": [
    "train.head()"
   ]
  },
  {
   "cell_type": "code",
   "execution_count": 5,
   "id": "8661e7dc",
   "metadata": {},
   "outputs": [
    {
     "name": "stdout",
     "output_type": "stream",
     "text": [
      "<class 'pandas.core.frame.DataFrame'>\n",
      "RangeIndex: 244768 entries, 0 to 244767\n",
      "Data columns (total 12 columns):\n",
      " #   Column              Non-Null Count   Dtype \n",
      "---  ------              --------------   ----- \n",
      " 0   Id                  244768 non-null  int64 \n",
      " 1   Title               244767 non-null  object\n",
      " 2   FullDescription     244768 non-null  object\n",
      " 3   LocationRaw         244768 non-null  object\n",
      " 4   LocationNormalized  244768 non-null  object\n",
      " 5   ContractType        65442 non-null   object\n",
      " 6   ContractTime        180863 non-null  object\n",
      " 7   Company             212338 non-null  object\n",
      " 8   Category            244768 non-null  object\n",
      " 9   SalaryRaw           244768 non-null  object\n",
      " 10  SalaryNormalized    244768 non-null  int64 \n",
      " 11  SourceName          244767 non-null  object\n",
      "dtypes: int64(2), object(10)\n",
      "memory usage: 22.4+ MB\n"
     ]
    }
   ],
   "source": [
    "train.info()"
   ]
  },
  {
   "cell_type": "code",
   "execution_count": 6,
   "id": "95f4820b",
   "metadata": {},
   "outputs": [
    {
     "data": {
      "text/plain": [
       "count    244768.000000\n",
       "mean      34122.577576\n",
       "std       17640.543124\n",
       "min        5000.000000\n",
       "25%       21500.000000\n",
       "50%       30000.000000\n",
       "75%       42500.000000\n",
       "max      200000.000000\n",
       "Name: SalaryNormalized, dtype: float64"
      ]
     },
     "execution_count": 6,
     "metadata": {},
     "output_type": "execute_result"
    }
   ],
   "source": [
    "train.SalaryNormalized.describe()"
   ]
  },
  {
   "cell_type": "markdown",
   "id": "b86203df",
   "metadata": {},
   "source": [
    "### Preprocessing the data"
   ]
  },
  {
   "cell_type": "code",
   "execution_count": 7,
   "id": "af4380bd",
   "metadata": {},
   "outputs": [],
   "source": [
    "train = train.sample(frac=1)"
   ]
  },
  {
   "cell_type": "code",
   "execution_count": 19,
   "id": "80d7894b",
   "metadata": {},
   "outputs": [],
   "source": [
    "X = train[[\"Title\", \"FullDescription\", \"LocationNormalized\", \"ContractTime\", \"Company\", \"Category\", \"SourceName\"]].fillna(\"missing value\")\n",
    "\n",
    "y = train.SalaryNormalized.fillna(0)"
   ]
  },
  {
   "cell_type": "code",
   "execution_count": 9,
   "id": "c43675a8",
   "metadata": {},
   "outputs": [
    {
     "name": "stdout",
     "output_type": "stream",
     "text": [
      "<class 'pandas.core.frame.DataFrame'>\n",
      "Int64Index: 244768 entries, 136883 to 86921\n",
      "Data columns (total 7 columns):\n",
      " #   Column              Non-Null Count   Dtype \n",
      "---  ------              --------------   ----- \n",
      " 0   Title               244768 non-null  object\n",
      " 1   FullDescription     244768 non-null  object\n",
      " 2   LocationNormalized  244768 non-null  object\n",
      " 3   ContractTime        244768 non-null  object\n",
      " 4   Company             244768 non-null  object\n",
      " 5   Category            244768 non-null  object\n",
      " 6   SourceName          244768 non-null  object\n",
      "dtypes: object(7)\n",
      "memory usage: 14.9+ MB\n"
     ]
    }
   ],
   "source": [
    "X.info()"
   ]
  },
  {
   "cell_type": "code",
   "execution_count": 9,
   "id": "6a357c2c",
   "metadata": {},
   "outputs": [],
   "source": [
    "categorized_X = pd.concat([\n",
    "        X.select_dtypes([], ['object']),\n",
    "        X.select_dtypes(['object']).apply(pd.Series.astype, dtype='category')\n",
    "        ], axis=1).reindex(X.columns, axis=1)"
   ]
  },
  {
   "cell_type": "code",
   "execution_count": 10,
   "id": "7e194f65",
   "metadata": {},
   "outputs": [
    {
     "name": "stdout",
     "output_type": "stream",
     "text": [
      "<class 'pandas.core.frame.DataFrame'>\n",
      "Int64Index: 244768 entries, 119737 to 52640\n",
      "Data columns (total 7 columns):\n",
      " #   Column              Non-Null Count   Dtype   \n",
      "---  ------              --------------   -----   \n",
      " 0   Title               244768 non-null  category\n",
      " 1   FullDescription     244768 non-null  category\n",
      " 2   LocationNormalized  244768 non-null  category\n",
      " 3   ContractTime        244768 non-null  category\n",
      " 4   Company             244768 non-null  category\n",
      " 5   Category            244768 non-null  category\n",
      " 6   SourceName          244768 non-null  category\n",
      "dtypes: category(7)\n",
      "memory usage: 24.4 MB\n"
     ]
    }
   ],
   "source": [
    "categorized_X.info()"
   ]
  },
  {
   "cell_type": "code",
   "execution_count": 11,
   "id": "32d58c50",
   "metadata": {},
   "outputs": [
    {
     "data": {
      "text/html": [
       "<div>\n",
       "<style scoped>\n",
       "    .dataframe tbody tr th:only-of-type {\n",
       "        vertical-align: middle;\n",
       "    }\n",
       "\n",
       "    .dataframe tbody tr th {\n",
       "        vertical-align: top;\n",
       "    }\n",
       "\n",
       "    .dataframe thead th {\n",
       "        text-align: right;\n",
       "    }\n",
       "</style>\n",
       "<table border=\"1\" class=\"dataframe\">\n",
       "  <thead>\n",
       "    <tr style=\"text-align: right;\">\n",
       "      <th></th>\n",
       "      <th>Title</th>\n",
       "      <th>FullDescription</th>\n",
       "      <th>LocationNormalized</th>\n",
       "      <th>ContractTime</th>\n",
       "      <th>Company</th>\n",
       "      <th>Category</th>\n",
       "      <th>SourceName</th>\n",
       "    </tr>\n",
       "  </thead>\n",
       "  <tbody>\n",
       "    <tr>\n",
       "      <th>119737</th>\n",
       "      <td>Behaviour Support Teaching Assistant</td>\n",
       "      <td>Hays Education are working in partnership with...</td>\n",
       "      <td>Leicester</td>\n",
       "      <td>contract</td>\n",
       "      <td>0</td>\n",
       "      <td>Teaching Jobs</td>\n",
       "      <td>hays.co.uk</td>\n",
       "    </tr>\n",
       "    <tr>\n",
       "      <th>46313</th>\n",
       "      <td>Car Sales Executive  Car Jobs in Essex</td>\n",
       "      <td>Car Sales Executive  Motor Trade Jobs in Essex...</td>\n",
       "      <td>Chelmsford</td>\n",
       "      <td>permanent</td>\n",
       "      <td>London4Jobs</td>\n",
       "      <td>Sales Jobs</td>\n",
       "      <td>london4jobs.co.uk</td>\n",
       "    </tr>\n",
       "    <tr>\n",
       "      <th>162046</th>\n",
       "      <td>Mobile Application Developer</td>\n",
       "      <td>Win Technologies has a brand new opportunity f...</td>\n",
       "      <td>London</td>\n",
       "      <td>permanent</td>\n",
       "      <td>Win Technologies  Ltd</td>\n",
       "      <td>IT Jobs</td>\n",
       "      <td>jobsite.co.uk</td>\n",
       "    </tr>\n",
       "    <tr>\n",
       "      <th>234364</th>\n",
       "      <td>Business Development Manager  London</td>\n",
       "      <td>Job Title &amp;ndash Business Development Manager ...</td>\n",
       "      <td>London</td>\n",
       "      <td>permanent</td>\n",
       "      <td>h2 Recruit Ltd</td>\n",
       "      <td>Sales Jobs</td>\n",
       "      <td>strike-jobs.co.uk</td>\n",
       "    </tr>\n",
       "    <tr>\n",
       "      <th>138993</th>\n",
       "      <td>Headhunting Role for Competitive Grad/Second J...</td>\n",
       "      <td>Maiden Marc Associates are currently working e...</td>\n",
       "      <td>London</td>\n",
       "      <td>permanent</td>\n",
       "      <td>MAIDEN MARC ASSOC LTD</td>\n",
       "      <td>Sales Jobs</td>\n",
       "      <td>jobs.guardian.co.uk</td>\n",
       "    </tr>\n",
       "  </tbody>\n",
       "</table>\n",
       "</div>"
      ],
      "text/plain": [
       "                                                    Title  \\\n",
       "119737               Behaviour Support Teaching Assistant   \n",
       "46313              Car Sales Executive  Car Jobs in Essex   \n",
       "162046                       Mobile Application Developer   \n",
       "234364               Business Development Manager  London   \n",
       "138993  Headhunting Role for Competitive Grad/Second J...   \n",
       "\n",
       "                                          FullDescription LocationNormalized  \\\n",
       "119737  Hays Education are working in partnership with...          Leicester   \n",
       "46313   Car Sales Executive  Motor Trade Jobs in Essex...         Chelmsford   \n",
       "162046  Win Technologies has a brand new opportunity f...             London   \n",
       "234364  Job Title &ndash Business Development Manager ...             London   \n",
       "138993  Maiden Marc Associates are currently working e...             London   \n",
       "\n",
       "       ContractTime                Company       Category           SourceName  \n",
       "119737     contract                      0  Teaching Jobs           hays.co.uk  \n",
       "46313     permanent            London4Jobs     Sales Jobs    london4jobs.co.uk  \n",
       "162046    permanent  Win Technologies  Ltd        IT Jobs        jobsite.co.uk  \n",
       "234364    permanent         h2 Recruit Ltd     Sales Jobs    strike-jobs.co.uk  \n",
       "138993    permanent  MAIDEN MARC ASSOC LTD     Sales Jobs  jobs.guardian.co.uk  "
      ]
     },
     "execution_count": 11,
     "metadata": {},
     "output_type": "execute_result"
    }
   ],
   "source": [
    "categorized_X.head()"
   ]
  },
  {
   "cell_type": "code",
   "execution_count": 50,
   "id": "3331398a",
   "metadata": {},
   "outputs": [],
   "source": [
    "X.loc[:, X.dtypes == 'object'] = X.select_dtypes(['object']).apply(lambda x: x.astype('category'))"
   ]
  },
  {
   "cell_type": "code",
   "execution_count": 13,
   "id": "37c81da9",
   "metadata": {},
   "outputs": [
    {
     "data": {
      "text/html": [
       "<div>\n",
       "<style scoped>\n",
       "    .dataframe tbody tr th:only-of-type {\n",
       "        vertical-align: middle;\n",
       "    }\n",
       "\n",
       "    .dataframe tbody tr th {\n",
       "        vertical-align: top;\n",
       "    }\n",
       "\n",
       "    .dataframe thead th {\n",
       "        text-align: right;\n",
       "    }\n",
       "</style>\n",
       "<table border=\"1\" class=\"dataframe\">\n",
       "  <thead>\n",
       "    <tr style=\"text-align: right;\">\n",
       "      <th></th>\n",
       "      <th>Title</th>\n",
       "      <th>FullDescription</th>\n",
       "      <th>LocationNormalized</th>\n",
       "      <th>ContractTime</th>\n",
       "      <th>Company</th>\n",
       "      <th>Category</th>\n",
       "      <th>SourceName</th>\n",
       "    </tr>\n",
       "  </thead>\n",
       "  <tbody>\n",
       "    <tr>\n",
       "      <th>119737</th>\n",
       "      <td>Behaviour Support Teaching Assistant</td>\n",
       "      <td>Hays Education are working in partnership with...</td>\n",
       "      <td>Leicester</td>\n",
       "      <td>contract</td>\n",
       "      <td>0</td>\n",
       "      <td>Teaching Jobs</td>\n",
       "      <td>hays.co.uk</td>\n",
       "    </tr>\n",
       "    <tr>\n",
       "      <th>46313</th>\n",
       "      <td>Car Sales Executive  Car Jobs in Essex</td>\n",
       "      <td>Car Sales Executive  Motor Trade Jobs in Essex...</td>\n",
       "      <td>Chelmsford</td>\n",
       "      <td>permanent</td>\n",
       "      <td>London4Jobs</td>\n",
       "      <td>Sales Jobs</td>\n",
       "      <td>london4jobs.co.uk</td>\n",
       "    </tr>\n",
       "    <tr>\n",
       "      <th>162046</th>\n",
       "      <td>Mobile Application Developer</td>\n",
       "      <td>Win Technologies has a brand new opportunity f...</td>\n",
       "      <td>London</td>\n",
       "      <td>permanent</td>\n",
       "      <td>Win Technologies  Ltd</td>\n",
       "      <td>IT Jobs</td>\n",
       "      <td>jobsite.co.uk</td>\n",
       "    </tr>\n",
       "    <tr>\n",
       "      <th>234364</th>\n",
       "      <td>Business Development Manager  London</td>\n",
       "      <td>Job Title &amp;ndash Business Development Manager ...</td>\n",
       "      <td>London</td>\n",
       "      <td>permanent</td>\n",
       "      <td>h2 Recruit Ltd</td>\n",
       "      <td>Sales Jobs</td>\n",
       "      <td>strike-jobs.co.uk</td>\n",
       "    </tr>\n",
       "    <tr>\n",
       "      <th>138993</th>\n",
       "      <td>Headhunting Role for Competitive Grad/Second J...</td>\n",
       "      <td>Maiden Marc Associates are currently working e...</td>\n",
       "      <td>London</td>\n",
       "      <td>permanent</td>\n",
       "      <td>MAIDEN MARC ASSOC LTD</td>\n",
       "      <td>Sales Jobs</td>\n",
       "      <td>jobs.guardian.co.uk</td>\n",
       "    </tr>\n",
       "  </tbody>\n",
       "</table>\n",
       "</div>"
      ],
      "text/plain": [
       "                                                    Title  \\\n",
       "119737               Behaviour Support Teaching Assistant   \n",
       "46313              Car Sales Executive  Car Jobs in Essex   \n",
       "162046                       Mobile Application Developer   \n",
       "234364               Business Development Manager  London   \n",
       "138993  Headhunting Role for Competitive Grad/Second J...   \n",
       "\n",
       "                                          FullDescription LocationNormalized  \\\n",
       "119737  Hays Education are working in partnership with...          Leicester   \n",
       "46313   Car Sales Executive  Motor Trade Jobs in Essex...         Chelmsford   \n",
       "162046  Win Technologies has a brand new opportunity f...             London   \n",
       "234364  Job Title &ndash Business Development Manager ...             London   \n",
       "138993  Maiden Marc Associates are currently working e...             London   \n",
       "\n",
       "       ContractTime                Company       Category           SourceName  \n",
       "119737     contract                      0  Teaching Jobs           hays.co.uk  \n",
       "46313     permanent            London4Jobs     Sales Jobs    london4jobs.co.uk  \n",
       "162046    permanent  Win Technologies  Ltd        IT Jobs        jobsite.co.uk  \n",
       "234364    permanent         h2 Recruit Ltd     Sales Jobs    strike-jobs.co.uk  \n",
       "138993    permanent  MAIDEN MARC ASSOC LTD     Sales Jobs  jobs.guardian.co.uk  "
      ]
     },
     "execution_count": 13,
     "metadata": {},
     "output_type": "execute_result"
    }
   ],
   "source": [
    "X.info()"
   ]
  },
  {
   "cell_type": "code",
   "execution_count": 10,
   "id": "0daaf085",
   "metadata": {},
   "outputs": [],
   "source": [
    "X['concat_features'] = X.astype(str).apply(' '.join, axis=1)"
   ]
  },
  {
   "cell_type": "code",
   "execution_count": 11,
   "id": "2ec41df4",
   "metadata": {},
   "outputs": [
    {
     "data": {
      "text/plain": [
       "136883    IOS lead developer iOS Lead Developer, London ...\n",
       "171180    General Manager Our Engineering client based i...\n",
       "238174    Registered General Nurse – Tunbridge Wells Sta...\n",
       "210347    Ophthalmic clinical nurse / technician  Readin...\n",
       "183559    Estimator  Interior and Exterior Refurbishment...\n",
       "Name: concat_features, dtype: object"
      ]
     },
     "execution_count": 11,
     "metadata": {},
     "output_type": "execute_result"
    }
   ],
   "source": [
    "X.concat_features.head()"
   ]
  },
  {
   "cell_type": "code",
   "execution_count": 20,
   "id": "23d14bd4",
   "metadata": {},
   "outputs": [],
   "source": [
    "\"\"\"\n",
    "Text Sanitazation\n",
    "\"\"\"\n",
    "\n",
    "def text_sanitazation(content):\n",
    "    stop_words = set(stopwords.words(\"english\"))\n",
    "    \n",
    "    # Making its content lower case\n",
    "    content = content.lower()\n",
    "\n",
    "    # Removing HTML Tags\n",
    "    html_removal_code = re.compile('<.*?>') \n",
    "    content = re.sub(html_removal_code, '', content)\n",
    "\n",
    "    # Removing ponctuation\n",
    "    content = content.translate(str.maketrans(\"\", \"\", string.punctuation))\n",
    "\n",
    "    # Removing white spaces\n",
    "    content = content.strip()\n",
    "    \n",
    "    # Removing stop words\n",
    "    word_tokens = word_tokenize(content)\n",
    "    filtered_text = ''\n",
    "    for word in word_tokens:\n",
    "        if word not in stop_words:\n",
    "            filtered_text = filtered_text + word + \" \"\n",
    "    content = filtered_text.strip()\n",
    "\n",
    "    return content"
   ]
  },
  {
   "cell_type": "code",
   "execution_count": 13,
   "id": "3442fa8a",
   "metadata": {},
   "outputs": [],
   "source": [
    "X.concat_features = X.concat_features.apply(text_sanitazation)"
   ]
  },
  {
   "cell_type": "code",
   "execution_count": 14,
   "id": "fc7dbf2a",
   "metadata": {},
   "outputs": [
    {
     "data": {
      "text/plain": [
       "136883    ios lead developer ios lead developer london c...\n",
       "171180    general manager engineering client based rochd...\n",
       "238174    registered general nurse – tunbridge wells sta...\n",
       "210347    ophthalmic clinical nurse technician reading j...\n",
       "183559    estimator interior exterior refurbishment fit ...\n",
       "Name: concat_features, dtype: object"
      ]
     },
     "execution_count": 14,
     "metadata": {},
     "output_type": "execute_result"
    }
   ],
   "source": [
    "X.concat_features.head()"
   ]
  },
  {
   "cell_type": "code",
   "execution_count": 18,
   "id": "0c780b6c",
   "metadata": {},
   "outputs": [],
   "source": [
    "# X[\"cleaned_description\"] = X.FullDescription.apply(text_sanitazation)\n",
    "# X.head()"
   ]
  },
  {
   "cell_type": "code",
   "execution_count": null,
   "id": "e79f52b5",
   "metadata": {},
   "outputs": [],
   "source": [
    "\"\"\"\n",
    "Enconding all columns\n",
    "\"\"\""
   ]
  },
  {
   "cell_type": "code",
   "execution_count": null,
   "id": "c5c924b9",
   "metadata": {},
   "outputs": [],
   "source": []
  },
  {
   "cell_type": "code",
   "execution_count": 21,
   "id": "161002d2",
   "metadata": {},
   "outputs": [],
   "source": [
    "X.Title = X.Title.apply(text_sanitazation)\n",
    "X.FullDescription = X.FullDescription.apply(text_sanitazation)\n",
    "X.LocationNormalized = X.LocationNormalized.apply(text_sanitazation)\n",
    "X.ContractTime = X.ContractTime.apply(text_sanitazation)\n",
    "X.Company = X.Company.apply(text_sanitazation)\n",
    "X.Category = X.Category.apply(text_sanitazation)\n",
    "X.SourceName = X.SourceName.apply(text_sanitazation)"
   ]
  },
  {
   "cell_type": "code",
   "execution_count": 22,
   "id": "1a806a62",
   "metadata": {},
   "outputs": [],
   "source": [
    "le = LabelEncoder()\n",
    "\n",
    "X_copy = X.copy()\n",
    "\n",
    "X_copy['Title'] = le.fit_transform(X_copy['Title'])\n",
    "X_copy['FullDescription'] = le.fit_transform(X_copy['FullDescription'])\n",
    "X_copy['LocationNormalized'] = le.fit_transform(X_copy['LocationNormalized'])\n",
    "X_copy['ContractTime'] = le.fit_transform(X_copy['ContractTime'])\n",
    "X_copy['Company'] = le.fit_transform(X_copy['Company'])\n",
    "X_copy['Category'] = le.fit_transform(X_copy['Category'])\n",
    "X_copy['SourceName'] = le.fit_transform(X_copy['SourceName'])"
   ]
  },
  {
   "cell_type": "code",
   "execution_count": 23,
   "id": "bb9611aa",
   "metadata": {},
   "outputs": [
    {
     "data": {
      "text/html": [
       "<div>\n",
       "<style scoped>\n",
       "    .dataframe tbody tr th:only-of-type {\n",
       "        vertical-align: middle;\n",
       "    }\n",
       "\n",
       "    .dataframe tbody tr th {\n",
       "        vertical-align: top;\n",
       "    }\n",
       "\n",
       "    .dataframe thead th {\n",
       "        text-align: right;\n",
       "    }\n",
       "</style>\n",
       "<table border=\"1\" class=\"dataframe\">\n",
       "  <thead>\n",
       "    <tr style=\"text-align: right;\">\n",
       "      <th></th>\n",
       "      <th>Title</th>\n",
       "      <th>FullDescription</th>\n",
       "      <th>LocationNormalized</th>\n",
       "      <th>ContractTime</th>\n",
       "      <th>Company</th>\n",
       "      <th>Category</th>\n",
       "      <th>SourceName</th>\n",
       "    </tr>\n",
       "  </thead>\n",
       "  <tbody>\n",
       "    <tr>\n",
       "      <th>136883</th>\n",
       "      <td>56434</td>\n",
       "      <td>114907</td>\n",
       "      <td>1491</td>\n",
       "      <td>2</td>\n",
       "      <td>11564</td>\n",
       "      <td>13</td>\n",
       "      <td>150</td>\n",
       "    </tr>\n",
       "    <tr>\n",
       "      <th>171180</th>\n",
       "      <td>44022</td>\n",
       "      <td>75743</td>\n",
       "      <td>1993</td>\n",
       "      <td>2</td>\n",
       "      <td>1772</td>\n",
       "      <td>8</td>\n",
       "      <td>25</td>\n",
       "    </tr>\n",
       "    <tr>\n",
       "      <th>238174</th>\n",
       "      <td>89543</td>\n",
       "      <td>213971</td>\n",
       "      <td>1303</td>\n",
       "      <td>1</td>\n",
       "      <td>916</td>\n",
       "      <td>10</td>\n",
       "      <td>117</td>\n",
       "    </tr>\n",
       "    <tr>\n",
       "      <th>210347</th>\n",
       "      <td>73810</td>\n",
       "      <td>122573</td>\n",
       "      <td>1964</td>\n",
       "      <td>1</td>\n",
       "      <td>9593</td>\n",
       "      <td>10</td>\n",
       "      <td>146</td>\n",
       "    </tr>\n",
       "    <tr>\n",
       "      <th>183559</th>\n",
       "      <td>37383</td>\n",
       "      <td>56017</td>\n",
       "      <td>563</td>\n",
       "      <td>2</td>\n",
       "      <td>18246</td>\n",
       "      <td>27</td>\n",
       "      <td>162</td>\n",
       "    </tr>\n",
       "  </tbody>\n",
       "</table>\n",
       "</div>"
      ],
      "text/plain": [
       "        Title  FullDescription  LocationNormalized  ContractTime  Company  \\\n",
       "136883  56434           114907                1491             2    11564   \n",
       "171180  44022            75743                1993             2     1772   \n",
       "238174  89543           213971                1303             1      916   \n",
       "210347  73810           122573                1964             1     9593   \n",
       "183559  37383            56017                 563             2    18246   \n",
       "\n",
       "        Category  SourceName  \n",
       "136883        13         150  \n",
       "171180         8          25  \n",
       "238174        10         117  \n",
       "210347        10         146  \n",
       "183559        27         162  "
      ]
     },
     "execution_count": 23,
     "metadata": {},
     "output_type": "execute_result"
    }
   ],
   "source": [
    "X_copy.head()"
   ]
  },
  {
   "cell_type": "code",
   "execution_count": 17,
   "id": "f8058572",
   "metadata": {},
   "outputs": [],
   "source": [
    "\"\"\"\n",
    "Train test splitting\n",
    "\"\"\"\n",
    "\n",
    "# whole dataset\n",
    "X_train, X_test, y_train, y_test = train_test_split(X.concat_features, y, test_size=0.33, random_state=67)\n",
    "\n",
    "# cutted dataset\n",
    "# X_train, X_test, y_train, y_test = train_test_split(X.concat_features.iloc[:100000], y.iloc[:100000], test_size=0.25, random_state=67)\n",
    "\n",
    "# only full description\n",
    "# X_train, X_test, y_train, y_test = train_test_split(X.cleaned_description, y, test_size=0.33, random_state=67)"
   ]
  },
  {
   "cell_type": "markdown",
   "id": "c376c2e4",
   "metadata": {},
   "source": [
    "### Text Vectorization process"
   ]
  },
  {
   "cell_type": "code",
   "execution_count": 32,
   "id": "e03c934a",
   "metadata": {},
   "outputs": [],
   "source": [
    "\"\"\"\n",
    "Text Vectorizing using TFIDF-VECTORIZER\n",
    "\"\"\"\n",
    "word_vectorizer = TfidfVectorizer(\n",
    "    sublinear_tf=True,\n",
    "    strip_accents='unicode',\n",
    "    analyzer='word',\n",
    "    token_pattern=r'\\w{1,}',\n",
    "    ngram_range=(2, 2),\n",
    "    norm='l2',\n",
    "    min_df=0,\n",
    "    smooth_idf=False,\n",
    "#     max_features=15000)\n",
    "    max_features=7000)\n",
    "\n",
    "# word_vectorizer.fit(X.concat_features)\n",
    "word_vectorizer.fit(X_train)\n",
    "\n",
    "# Xtr_vec = word_vectorizer.transform(X.concat_features)\n",
    "Xtr_vec = word_vectorizer.transform(X_train)\n",
    "Xte_vec = word_vectorizer.transform(X_test)"
   ]
  },
  {
   "cell_type": "code",
   "execution_count": 26,
   "id": "5e5317f5",
   "metadata": {},
   "outputs": [],
   "source": [
    "\"\"\"\n",
    "Using Bag of Words\n",
    "\"\"\"\n",
    "from sklearn.feature_extraction.text import CountVectorizer\n",
    "\n",
    "count_vect = CountVectorizer(stop_words='english', analyzer='word')\n",
    "\n",
    "X_bow = count_vect.fit(X_train)\n",
    "\n",
    "Xtr_vec = X_bow.transform(X_train)\n",
    "Xte_vec = X_bow.transform(X_test)"
   ]
  },
  {
   "cell_type": "markdown",
   "id": "e2106832",
   "metadata": {},
   "source": [
    "### XGBoost Regressor \n",
    "\n",
    "https://xgboost.readthedocs.io/en/stable/python/python_api.html\n",
    "\n",
    "\n",
    "Usando bigrama com TDIDF e removendo stopword:<br>\n",
    "MAE: 7691.859941605192 | MSE: 122899306.2126854 | RMSE: 11085.99595041805"
   ]
  },
  {
   "cell_type": "code",
   "execution_count": 26,
   "id": "bbd246d2",
   "metadata": {},
   "outputs": [],
   "source": [
    "xgbr = XGBRegressor(\n",
    "    random_state=12, \n",
    "    n_estimators=150,\n",
    "    max_depth=8, \n",
    "    learning_rate=0.4,\n",
    "    verbosity=1\n",
    ")"
   ]
  },
  {
   "cell_type": "code",
   "execution_count": 23,
   "id": "81d1a144",
   "metadata": {},
   "outputs": [],
   "source": [
    "# Kfold"
   ]
  },
  {
   "cell_type": "code",
   "execution_count": 24,
   "id": "778faeb5",
   "metadata": {},
   "outputs": [],
   "source": [
    "cv = KFold(n_splits=5)\n",
    "scores = cross_val_score(xgbr, Xtr_vec, y_train, scoring='neg_mean_absolute_error', cv=cv)"
   ]
  },
  {
   "cell_type": "code",
   "execution_count": 25,
   "id": "ed5ff44d",
   "metadata": {},
   "outputs": [
    {
     "name": "stdout",
     "output_type": "stream",
     "text": [
      "Mean MAE: 6988.755 (34.745)\n"
     ]
    }
   ],
   "source": [
    "scores = absolute(scores)\n",
    "print('Mean MAE: %.3f (%.3f)' % (scores.mean(), scores.std()) )"
   ]
  },
  {
   "cell_type": "code",
   "execution_count": 26,
   "id": "ca729eec",
   "metadata": {},
   "outputs": [],
   "source": [
    "# Holdout"
   ]
  },
  {
   "cell_type": "code",
   "execution_count": 34,
   "id": "337ca417",
   "metadata": {
    "scrolled": true
   },
   "outputs": [
    {
     "data": {
      "text/plain": [
       "XGBRegressor(base_score=0.5, booster='gbtree', colsample_bylevel=1,\n",
       "             colsample_bynode=1, colsample_bytree=1, enable_categorical=False,\n",
       "             gamma=0, gpu_id=-1, importance_type=None,\n",
       "             interaction_constraints='', learning_rate=0.4, max_delta_step=0,\n",
       "             max_depth=8, min_child_weight=1, missing=nan,\n",
       "             monotone_constraints='()', n_estimators=150, n_jobs=8,\n",
       "             num_parallel_tree=1, predictor='auto', random_state=12,\n",
       "             reg_alpha=0, reg_lambda=1, scale_pos_weight=1, subsample=1,\n",
       "             tree_method='exact', validate_parameters=1, verbosity=1)"
      ]
     },
     "execution_count": 34,
     "metadata": {},
     "output_type": "execute_result"
    }
   ],
   "source": [
    "xgbr.fit(Xtr_vec, y_train)"
   ]
  },
  {
   "cell_type": "code",
   "execution_count": 35,
   "id": "d9983387",
   "metadata": {},
   "outputs": [
    {
     "name": "stdout",
     "output_type": "stream",
     "text": [
      "Training score:  0.7415196773176778\n"
     ]
    }
   ],
   "source": [
    "score = xgbr.score(Xtr_vec, y_train)  \n",
    "print(\"Training score: \", score)"
   ]
  },
  {
   "cell_type": "code",
   "execution_count": 36,
   "id": "18dc3f61",
   "metadata": {},
   "outputs": [],
   "source": [
    "y_pred = xgbr.predict(Xte_vec)"
   ]
  },
  {
   "cell_type": "code",
   "execution_count": 37,
   "id": "68aee6de",
   "metadata": {},
   "outputs": [
    {
     "name": "stdout",
     "output_type": "stream",
     "text": [
      "MAE: 7691.859941605192 | MSE: 122899306.2126854 | RMSE: 11085.99595041805\n"
     ]
    }
   ],
   "source": [
    "mae = mean_absolute_error(y_test, y_pred)\n",
    "mse = mean_squared_error(y_test, y_pred)\n",
    "rmse = mean_squared_error(y_test, y_pred, squared=False)\n",
    "\n",
    "print(f\"MAE: {mae} | MSE: {mse} | RMSE: {rmse}\")"
   ]
  },
  {
   "cell_type": "code",
   "execution_count": 38,
   "id": "0ecbaefa",
   "metadata": {},
   "outputs": [],
   "source": [
    "# Holdout (using the whole dataset label enconded)"
   ]
  },
  {
   "cell_type": "code",
   "execution_count": 24,
   "id": "3327e86a",
   "metadata": {},
   "outputs": [],
   "source": [
    "X_train, X_test, y_train, y_test = train_test_split(X_copy, y, test_size=0.33, random_state=67)"
   ]
  },
  {
   "cell_type": "code",
   "execution_count": 27,
   "id": "07a0eb7a",
   "metadata": {},
   "outputs": [
    {
     "data": {
      "text/plain": [
       "XGBRegressor(base_score=0.5, booster='gbtree', colsample_bylevel=1,\n",
       "             colsample_bynode=1, colsample_bytree=1, enable_categorical=False,\n",
       "             gamma=0, gpu_id=-1, importance_type=None,\n",
       "             interaction_constraints='', learning_rate=0.4, max_delta_step=0,\n",
       "             max_depth=8, min_child_weight=1, missing=nan,\n",
       "             monotone_constraints='()', n_estimators=150, n_jobs=8,\n",
       "             num_parallel_tree=1, predictor='auto', random_state=12,\n",
       "             reg_alpha=0, reg_lambda=1, scale_pos_weight=1, subsample=1,\n",
       "             tree_method='exact', validate_parameters=1, verbosity=1)"
      ]
     },
     "execution_count": 27,
     "metadata": {},
     "output_type": "execute_result"
    }
   ],
   "source": [
    "xgbr.fit(X_train, y_train)"
   ]
  },
  {
   "cell_type": "code",
   "execution_count": 28,
   "id": "2da66a13",
   "metadata": {},
   "outputs": [
    {
     "name": "stdout",
     "output_type": "stream",
     "text": [
      "Training score:  0.7403527259847542\n"
     ]
    }
   ],
   "source": [
    "score = xgbr.score(X_train, y_train)  \n",
    "print(\"Training score: \", score)"
   ]
  },
  {
   "cell_type": "code",
   "execution_count": 29,
   "id": "ce95c888",
   "metadata": {},
   "outputs": [],
   "source": [
    "y_pred = xgbr.predict(X_test)"
   ]
  },
  {
   "cell_type": "code",
   "execution_count": 30,
   "id": "517833eb",
   "metadata": {},
   "outputs": [
    {
     "name": "stdout",
     "output_type": "stream",
     "text": [
      "MAE: 7950.230200998999 | MSE: 132088104.93746936 | RMSE: 11492.958928729771\n"
     ]
    }
   ],
   "source": [
    "mae = mean_absolute_error(y_test, y_pred)\n",
    "mse = mean_squared_error(y_test, y_pred)\n",
    "rmse = mean_squared_error(y_test, y_pred, squared=False)\n",
    "\n",
    "print(f\"MAE: {mae} | MSE: {mse} | RMSE: {rmse}\")"
   ]
  },
  {
   "cell_type": "code",
   "execution_count": 31,
   "id": "11930d59",
   "metadata": {},
   "outputs": [
    {
     "data": {
      "text/plain": [
       "''"
      ]
     },
     "execution_count": 31,
     "metadata": {},
     "output_type": "execute_result"
    }
   ],
   "source": [
    "\"\"\"\n",
    "RandomForestRegressor (test)\n",
    "\"\"\""
   ]
  },
  {
   "cell_type": "code",
   "execution_count": 32,
   "id": "b3228104",
   "metadata": {},
   "outputs": [],
   "source": [
    "from sklearn.ensemble import RandomForestRegressor"
   ]
  },
  {
   "cell_type": "code",
   "execution_count": 33,
   "id": "c9f0be0d",
   "metadata": {},
   "outputs": [],
   "source": [
    "model = RandomForestRegressor(n_jobs=-1)"
   ]
  },
  {
   "cell_type": "code",
   "execution_count": 34,
   "id": "3625311e",
   "metadata": {},
   "outputs": [
    {
     "data": {
      "text/plain": [
       "RandomForestRegressor(n_jobs=-1)"
      ]
     },
     "execution_count": 34,
     "metadata": {},
     "output_type": "execute_result"
    }
   ],
   "source": [
    "model.fit(X_train,y_train)"
   ]
  },
  {
   "cell_type": "code",
   "execution_count": 35,
   "id": "47b5758f",
   "metadata": {},
   "outputs": [],
   "source": [
    "y_pred = model.predict(X_test)"
   ]
  },
  {
   "cell_type": "code",
   "execution_count": 36,
   "id": "4a1b69ba",
   "metadata": {},
   "outputs": [],
   "source": [
    "mae_rand_forest = mean_absolute_error(y_test,y_pred)"
   ]
  },
  {
   "cell_type": "code",
   "execution_count": 37,
   "id": "7a839d5c",
   "metadata": {},
   "outputs": [
    {
     "data": {
      "text/plain": [
       "8610.384372032237"
      ]
     },
     "execution_count": 37,
     "metadata": {},
     "output_type": "execute_result"
    }
   ],
   "source": [
    "mae_rand_forest"
   ]
  }
 ],
 "metadata": {
  "kernelspec": {
   "display_name": "Python 3",
   "language": "python",
   "name": "python3"
  },
  "language_info": {
   "codemirror_mode": {
    "name": "ipython",
    "version": 3
   },
   "file_extension": ".py",
   "mimetype": "text/x-python",
   "name": "python",
   "nbconvert_exporter": "python",
   "pygments_lexer": "ipython3",
   "version": "3.6.9"
  }
 },
 "nbformat": 4,
 "nbformat_minor": 5
}
