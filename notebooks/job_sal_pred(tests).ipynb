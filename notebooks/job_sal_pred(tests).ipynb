{
 "cells": [
  {
   "cell_type": "code",
   "execution_count": 7,
   "id": "f06054c0",
   "metadata": {},
   "outputs": [],
   "source": [
    "import re\n",
    "import string\n",
    "import pandas as pd\n",
    "import numpy as np\n",
    "from numpy import absolute\n",
    "\n",
    "from sklearn.feature_extraction.text import TfidfVectorizer\n",
    "\n",
    "from sklearn.model_selection import train_test_split\n",
    "from sklearn.model_selection import RepeatedKFold\n",
    "from sklearn.model_selection import KFold\n",
    "from sklearn.model_selection import cross_val_score\n",
    "\n",
    "from sklearn.metrics import precision_score, recall_score, accuracy_score\n",
    "from sklearn.metrics import mean_squared_error\n",
    "from sklearn.metrics import mean_absolute_error\n",
    "\n",
    "from sklearn.linear_model import LinearRegression\n",
    "from sklearn.svm import SVR\n",
    "\n",
    "import xgboost as xgb\n",
    "from xgboost import XGBRegressor"
   ]
  },
  {
   "cell_type": "code",
   "execution_count": 9,
   "id": "71af1ffb",
   "metadata": {},
   "outputs": [],
   "source": [
    "# import nltk\n",
    "# try:\n",
    "#     nltk.download('stopwords', quiet=True)\n",
    "#     nltk.download('punkt', quiet=True)\n",
    "# except FileExistsError:\n",
    "#     pass\n",
    "\n",
    "# from nltk.corpus import stopwords\n",
    "# from nltk.tokenize import word_tokenize"
   ]
  },
  {
   "cell_type": "code",
   "execution_count": 60,
   "id": "d1687f8e",
   "metadata": {},
   "outputs": [],
   "source": [
    "train = pd.read_csv(\"../datasets/Train_rev1.csv\")\n",
    "# test  = pd.read_csv(\"Test_rev1.csv\")\n",
    "# valid = pd.read_csv(\"Valid_rev1.csv\")"
   ]
  },
  {
   "cell_type": "code",
   "execution_count": 61,
   "id": "57dcfda4",
   "metadata": {},
   "outputs": [
    {
     "data": {
      "text/html": [
       "<div>\n",
       "<style scoped>\n",
       "    .dataframe tbody tr th:only-of-type {\n",
       "        vertical-align: middle;\n",
       "    }\n",
       "\n",
       "    .dataframe tbody tr th {\n",
       "        vertical-align: top;\n",
       "    }\n",
       "\n",
       "    .dataframe thead th {\n",
       "        text-align: right;\n",
       "    }\n",
       "</style>\n",
       "<table border=\"1\" class=\"dataframe\">\n",
       "  <thead>\n",
       "    <tr style=\"text-align: right;\">\n",
       "      <th></th>\n",
       "      <th>Id</th>\n",
       "      <th>Title</th>\n",
       "      <th>FullDescription</th>\n",
       "      <th>LocationRaw</th>\n",
       "      <th>LocationNormalized</th>\n",
       "      <th>ContractType</th>\n",
       "      <th>ContractTime</th>\n",
       "      <th>Company</th>\n",
       "      <th>Category</th>\n",
       "      <th>SalaryRaw</th>\n",
       "      <th>SalaryNormalized</th>\n",
       "      <th>SourceName</th>\n",
       "    </tr>\n",
       "  </thead>\n",
       "  <tbody>\n",
       "    <tr>\n",
       "      <th>0</th>\n",
       "      <td>12612628</td>\n",
       "      <td>Engineering Systems Analyst</td>\n",
       "      <td>Engineering Systems Analyst Dorking Surrey Sal...</td>\n",
       "      <td>Dorking, Surrey, Surrey</td>\n",
       "      <td>Dorking</td>\n",
       "      <td>NaN</td>\n",
       "      <td>permanent</td>\n",
       "      <td>Gregory Martin International</td>\n",
       "      <td>Engineering Jobs</td>\n",
       "      <td>20000 - 30000/annum 20-30K</td>\n",
       "      <td>25000</td>\n",
       "      <td>cv-library.co.uk</td>\n",
       "    </tr>\n",
       "    <tr>\n",
       "      <th>1</th>\n",
       "      <td>12612830</td>\n",
       "      <td>Stress Engineer Glasgow</td>\n",
       "      <td>Stress Engineer Glasgow Salary **** to **** We...</td>\n",
       "      <td>Glasgow, Scotland, Scotland</td>\n",
       "      <td>Glasgow</td>\n",
       "      <td>NaN</td>\n",
       "      <td>permanent</td>\n",
       "      <td>Gregory Martin International</td>\n",
       "      <td>Engineering Jobs</td>\n",
       "      <td>25000 - 35000/annum 25-35K</td>\n",
       "      <td>30000</td>\n",
       "      <td>cv-library.co.uk</td>\n",
       "    </tr>\n",
       "    <tr>\n",
       "      <th>2</th>\n",
       "      <td>12612844</td>\n",
       "      <td>Modelling and simulation analyst</td>\n",
       "      <td>Mathematical Modeller / Simulation Analyst / O...</td>\n",
       "      <td>Hampshire, South East, South East</td>\n",
       "      <td>Hampshire</td>\n",
       "      <td>NaN</td>\n",
       "      <td>permanent</td>\n",
       "      <td>Gregory Martin International</td>\n",
       "      <td>Engineering Jobs</td>\n",
       "      <td>20000 - 40000/annum 20-40K</td>\n",
       "      <td>30000</td>\n",
       "      <td>cv-library.co.uk</td>\n",
       "    </tr>\n",
       "  </tbody>\n",
       "</table>\n",
       "</div>"
      ],
      "text/plain": [
       "         Id                             Title  \\\n",
       "0  12612628       Engineering Systems Analyst   \n",
       "1  12612830           Stress Engineer Glasgow   \n",
       "2  12612844  Modelling and simulation analyst   \n",
       "\n",
       "                                     FullDescription  \\\n",
       "0  Engineering Systems Analyst Dorking Surrey Sal...   \n",
       "1  Stress Engineer Glasgow Salary **** to **** We...   \n",
       "2  Mathematical Modeller / Simulation Analyst / O...   \n",
       "\n",
       "                         LocationRaw LocationNormalized ContractType  \\\n",
       "0            Dorking, Surrey, Surrey            Dorking          NaN   \n",
       "1        Glasgow, Scotland, Scotland            Glasgow          NaN   \n",
       "2  Hampshire, South East, South East          Hampshire          NaN   \n",
       "\n",
       "  ContractTime                       Company          Category  \\\n",
       "0    permanent  Gregory Martin International  Engineering Jobs   \n",
       "1    permanent  Gregory Martin International  Engineering Jobs   \n",
       "2    permanent  Gregory Martin International  Engineering Jobs   \n",
       "\n",
       "                    SalaryRaw  SalaryNormalized        SourceName  \n",
       "0  20000 - 30000/annum 20-30K             25000  cv-library.co.uk  \n",
       "1  25000 - 35000/annum 25-35K             30000  cv-library.co.uk  \n",
       "2  20000 - 40000/annum 20-40K             30000  cv-library.co.uk  "
      ]
     },
     "execution_count": 61,
     "metadata": {},
     "output_type": "execute_result"
    }
   ],
   "source": [
    "train.head(3)"
   ]
  },
  {
   "cell_type": "code",
   "execution_count": 62,
   "id": "d9dc0d3c",
   "metadata": {},
   "outputs": [
    {
     "name": "stdout",
     "output_type": "stream",
     "text": [
      "<class 'pandas.core.frame.DataFrame'>\n",
      "RangeIndex: 244768 entries, 0 to 244767\n",
      "Data columns (total 12 columns):\n",
      " #   Column              Non-Null Count   Dtype \n",
      "---  ------              --------------   ----- \n",
      " 0   Id                  244768 non-null  int64 \n",
      " 1   Title               244767 non-null  object\n",
      " 2   FullDescription     244768 non-null  object\n",
      " 3   LocationRaw         244768 non-null  object\n",
      " 4   LocationNormalized  244768 non-null  object\n",
      " 5   ContractType        65442 non-null   object\n",
      " 6   ContractTime        180863 non-null  object\n",
      " 7   Company             212338 non-null  object\n",
      " 8   Category            244768 non-null  object\n",
      " 9   SalaryRaw           244768 non-null  object\n",
      " 10  SalaryNormalized    244768 non-null  int64 \n",
      " 11  SourceName          244767 non-null  object\n",
      "dtypes: int64(2), object(10)\n",
      "memory usage: 22.4+ MB\n"
     ]
    }
   ],
   "source": [
    "train.info()"
   ]
  },
  {
   "cell_type": "code",
   "execution_count": 63,
   "id": "6717574d",
   "metadata": {},
   "outputs": [
    {
     "data": {
      "text/plain": [
       "count    244768.000000\n",
       "mean      34122.577576\n",
       "std       17640.543124\n",
       "min        5000.000000\n",
       "25%       21500.000000\n",
       "50%       30000.000000\n",
       "75%       42500.000000\n",
       "max      200000.000000\n",
       "Name: SalaryNormalized, dtype: float64"
      ]
     },
     "execution_count": 63,
     "metadata": {},
     "output_type": "execute_result"
    }
   ],
   "source": [
    "train.SalaryNormalized.describe()"
   ]
  },
  {
   "cell_type": "code",
   "execution_count": 64,
   "id": "f91f048a",
   "metadata": {},
   "outputs": [],
   "source": [
    "train = train.sample(frac=1)"
   ]
  },
  {
   "cell_type": "code",
   "execution_count": 65,
   "id": "2f9b6997",
   "metadata": {},
   "outputs": [],
   "source": [
    "X = train[[\"Title\", \"FullDescription\", \"LocationNormalized\", \"ContractTime\", \"Company\", \"Category\", \"SourceName\"]].fillna(0)\n",
    "\n",
    "y = train.SalaryNormalized.fillna(0)"
   ]
  },
  {
   "cell_type": "code",
   "execution_count": 66,
   "id": "24132eb1",
   "metadata": {},
   "outputs": [
    {
     "data": {
      "text/html": [
       "<div>\n",
       "<style scoped>\n",
       "    .dataframe tbody tr th:only-of-type {\n",
       "        vertical-align: middle;\n",
       "    }\n",
       "\n",
       "    .dataframe tbody tr th {\n",
       "        vertical-align: top;\n",
       "    }\n",
       "\n",
       "    .dataframe thead th {\n",
       "        text-align: right;\n",
       "    }\n",
       "</style>\n",
       "<table border=\"1\" class=\"dataframe\">\n",
       "  <thead>\n",
       "    <tr style=\"text-align: right;\">\n",
       "      <th></th>\n",
       "      <th>Title</th>\n",
       "      <th>FullDescription</th>\n",
       "      <th>LocationNormalized</th>\n",
       "      <th>ContractTime</th>\n",
       "      <th>Company</th>\n",
       "      <th>Category</th>\n",
       "      <th>SourceName</th>\n",
       "    </tr>\n",
       "  </thead>\n",
       "  <tbody>\n",
       "    <tr>\n",
       "      <th>149456</th>\n",
       "      <td>Laminator</td>\n",
       "      <td>My Walsall Based Client is looking for a lamin...</td>\n",
       "      <td>Walsall</td>\n",
       "      <td>contract</td>\n",
       "      <td>Brookstreet UK</td>\n",
       "      <td>Manufacturing Jobs</td>\n",
       "      <td>cv-library.co.uk</td>\n",
       "    </tr>\n",
       "    <tr>\n",
       "      <th>185900</th>\n",
       "      <td>Technical Support Engineer (Voice and Networking)</td>\n",
       "      <td>Job Title  Technical Support Engineer (Voice a...</td>\n",
       "      <td>London</td>\n",
       "      <td>permanent</td>\n",
       "      <td>Bluefire Consulting</td>\n",
       "      <td>Other/General Jobs</td>\n",
       "      <td>totaljobs.com</td>\n",
       "    </tr>\n",
       "    <tr>\n",
       "      <th>199036</th>\n",
       "      <td>Marketing Administrator  6 month contract</td>\n",
       "      <td>Established company based between Gloucester a...</td>\n",
       "      <td>Cheltenham</td>\n",
       "      <td>contract</td>\n",
       "      <td>Adecco Group</td>\n",
       "      <td>PR, Advertising &amp; Marketing Jobs</td>\n",
       "      <td>totaljobs.com</td>\n",
       "    </tr>\n",
       "    <tr>\n",
       "      <th>220843</th>\n",
       "      <td>Solution Architect/Business Consultant  Retail...</td>\n",
       "      <td>Solution Architect  Business Consultant  Retai...</td>\n",
       "      <td>Gipsy Hill</td>\n",
       "      <td>permanent</td>\n",
       "      <td>Spargonet Consulting</td>\n",
       "      <td>IT Jobs</td>\n",
       "      <td>jobg8.com</td>\n",
       "    </tr>\n",
       "    <tr>\n",
       "      <th>158402</th>\n",
       "      <td>Account Executive  Leading PR Agency  Consumer...</td>\n",
       "      <td>The Company. An incredible opportunity to join...</td>\n",
       "      <td>Central London</td>\n",
       "      <td>permanent</td>\n",
       "      <td>Reuben Sinclair</td>\n",
       "      <td>PR, Advertising &amp; Marketing Jobs</td>\n",
       "      <td>gorkanajobs.co.uk</td>\n",
       "    </tr>\n",
       "  </tbody>\n",
       "</table>\n",
       "</div>"
      ],
      "text/plain": [
       "                                                    Title  \\\n",
       "149456                                          Laminator   \n",
       "185900  Technical Support Engineer (Voice and Networking)   \n",
       "199036          Marketing Administrator  6 month contract   \n",
       "220843  Solution Architect/Business Consultant  Retail...   \n",
       "158402  Account Executive  Leading PR Agency  Consumer...   \n",
       "\n",
       "                                          FullDescription LocationNormalized  \\\n",
       "149456  My Walsall Based Client is looking for a lamin...            Walsall   \n",
       "185900  Job Title  Technical Support Engineer (Voice a...             London   \n",
       "199036  Established company based between Gloucester a...         Cheltenham   \n",
       "220843  Solution Architect  Business Consultant  Retai...         Gipsy Hill   \n",
       "158402  The Company. An incredible opportunity to join...     Central London   \n",
       "\n",
       "       ContractTime               Company                          Category  \\\n",
       "149456     contract        Brookstreet UK                Manufacturing Jobs   \n",
       "185900    permanent   Bluefire Consulting                Other/General Jobs   \n",
       "199036     contract          Adecco Group  PR, Advertising & Marketing Jobs   \n",
       "220843    permanent  Spargonet Consulting                           IT Jobs   \n",
       "158402    permanent       Reuben Sinclair  PR, Advertising & Marketing Jobs   \n",
       "\n",
       "               SourceName  \n",
       "149456   cv-library.co.uk  \n",
       "185900      totaljobs.com  \n",
       "199036      totaljobs.com  \n",
       "220843          jobg8.com  \n",
       "158402  gorkanajobs.co.uk  "
      ]
     },
     "execution_count": 66,
     "metadata": {},
     "output_type": "execute_result"
    }
   ],
   "source": [
    "X.head()"
   ]
  },
  {
   "cell_type": "code",
   "execution_count": 67,
   "id": "60326de1",
   "metadata": {},
   "outputs": [],
   "source": [
    "X['concat_features'] = X.astype(str).apply(' '.join, axis=1)"
   ]
  },
  {
   "cell_type": "code",
   "execution_count": 68,
   "id": "f5ecada2",
   "metadata": {},
   "outputs": [
    {
     "data": {
      "text/plain": [
       "149456    Laminator My Walsall Based Client is looking f...\n",
       "185900    Technical Support Engineer (Voice and Networki...\n",
       "199036    Marketing Administrator  6 month contract Esta...\n",
       "220843    Solution Architect/Business Consultant  Retail...\n",
       "158402    Account Executive  Leading PR Agency  Consumer...\n",
       "                                ...                        \n",
       "15741     STRATEGIC LEADER OF ICT Aspiration and Achieve...\n",
       "103504    Mechanical Maintenance Engineer Mechanical Mai...\n",
       "172246    OD And Talent HRBP FTC Our client, an internat...\n",
       "174458    Liability Insurance Claims Advisor Background ...\n",
       "187803    Yard amp; Logistics Supervisor Company Overvie...\n",
       "Name: concat_features, Length: 244768, dtype: object"
      ]
     },
     "execution_count": 68,
     "metadata": {},
     "output_type": "execute_result"
    }
   ],
   "source": [
    "X.concat_features"
   ]
  },
  {
   "cell_type": "code",
   "execution_count": 69,
   "id": "eb0cca95",
   "metadata": {},
   "outputs": [],
   "source": [
    "\"\"\"\n",
    "Text Sanitazation\n",
    "\"\"\"\n",
    "\n",
    "def text_sanitazation(content):\n",
    "    stop_words = set(stopwords.words(\"english\"))\n",
    "\n",
    "    # Making its content lower case\n",
    "    content = content.lower()\n",
    "\n",
    "    # Removing HTML Tags\n",
    "    html_removal_code = re.compile('<.*?>') \n",
    "    content = re.sub(html_removal_code, '', content)\n",
    "\n",
    "    # Removing ponctuation\n",
    "    content = content.translate(str.maketrans(\"\", \"\", string.punctuation))\n",
    "\n",
    "    # Removing white spaces\n",
    "    content = content.strip()\n",
    "\n",
    "    return content"
   ]
  },
  {
   "cell_type": "code",
   "execution_count": 70,
   "id": "47b6d522",
   "metadata": {},
   "outputs": [],
   "source": [
    "X.concat_features = X.concat_features.apply(text_sanitazation)"
   ]
  },
  {
   "cell_type": "code",
   "execution_count": 71,
   "id": "68a9e416",
   "metadata": {},
   "outputs": [
    {
     "data": {
      "text/plain": [
       "149456    laminator my walsall based client is looking f...\n",
       "185900    technical support engineer voice and networkin...\n",
       "199036    marketing administrator  6 month contract esta...\n",
       "220843    solution architectbusiness consultant  retailg...\n",
       "158402    account executive  leading pr agency  consumer...\n",
       "                                ...                        \n",
       "15741     strategic leader of ict aspiration and achieve...\n",
       "103504    mechanical maintenance engineer mechanical mai...\n",
       "172246    od and talent hrbp ftc our client an internati...\n",
       "174458    liability insurance claims advisor background ...\n",
       "187803    yard amp logistics supervisor company overview...\n",
       "Name: concat_features, Length: 244768, dtype: object"
      ]
     },
     "execution_count": 71,
     "metadata": {},
     "output_type": "execute_result"
    }
   ],
   "source": [
    "X.concat_features"
   ]
  },
  {
   "cell_type": "code",
   "execution_count": 72,
   "id": "57322c53",
   "metadata": {},
   "outputs": [],
   "source": [
    "\"\"\"\n",
    "Train test splitting\n",
    "\"\"\"\n",
    "\n",
    "X_train, X_test, y_train, y_test = train_test_split(X.concat_features, y, test_size=0.33, random_state=67)\n",
    "# X_train, X_test, y_train, y_test = train_test_split(X.concat_features.iloc[:50000], y.iloc[:50000], test_size=0.33, random_state=67)"
   ]
  },
  {
   "cell_type": "code",
   "execution_count": 73,
   "id": "ee1ac5ea",
   "metadata": {},
   "outputs": [],
   "source": [
    "\"\"\"\n",
    "Text Vectorizing using TFIDF-VECTORIZER\n",
    "\"\"\"\n",
    "word_vectorizer = TfidfVectorizer(\n",
    "    sublinear_tf=True,\n",
    "    strip_accents='unicode',\n",
    "    analyzer='word',\n",
    "    token_pattern=r'\\w{1,}',\n",
    "    ngram_range=(1, 1),\n",
    "    norm='l2',\n",
    "    min_df=0,\n",
    "    smooth_idf=False,\n",
    "#     max_features=15000)\n",
    "    max_features=7000)\n",
    "\n",
    "# word_vectorizer.fit(X.concat_features)\n",
    "word_vectorizer.fit(X_train)\n",
    "\n",
    "# Xtr_vec = word_vectorizer.transform(X.concat_features)\n",
    "Xtr_vec = word_vectorizer.transform(X_train)\n",
    "Xte_vec = word_vectorizer.transform(X_test)"
   ]
  },
  {
   "cell_type": "code",
   "execution_count": 74,
   "id": "7bd187c4",
   "metadata": {},
   "outputs": [
    {
     "data": {
      "text/plain": [
       "<33500x7000 sparse matrix of type '<class 'numpy.float64'>'\n",
       "\twith 4707945 stored elements in Compressed Sparse Row format>"
      ]
     },
     "execution_count": 74,
     "metadata": {},
     "output_type": "execute_result"
    }
   ],
   "source": [
    "Xtr_vec"
   ]
  },
  {
   "cell_type": "code",
   "execution_count": 75,
   "id": "dea9967d",
   "metadata": {},
   "outputs": [
    {
     "data": {
      "text/plain": [
       "<16500x7000 sparse matrix of type '<class 'numpy.float64'>'\n",
       "\twith 2322153 stored elements in Compressed Sparse Row format>"
      ]
     },
     "execution_count": 75,
     "metadata": {},
     "output_type": "execute_result"
    }
   ],
   "source": [
    "Xte_vec"
   ]
  },
  {
   "cell_type": "markdown",
   "id": "6a1512fc",
   "metadata": {},
   "source": [
    "### Linear Regression "
   ]
  },
  {
   "cell_type": "code",
   "execution_count": 25,
   "id": "d3f348d6",
   "metadata": {},
   "outputs": [],
   "source": [
    "reg = LinearRegression(normalize=True)"
   ]
  },
  {
   "cell_type": "code",
   "execution_count": 26,
   "id": "36b63b26",
   "metadata": {},
   "outputs": [
    {
     "data": {
      "text/plain": [
       "'\\nKfold\\n'"
      ]
     },
     "execution_count": 26,
     "metadata": {},
     "output_type": "execute_result"
    }
   ],
   "source": [
    "\"\"\"\n",
    "Kfold\n",
    "\"\"\""
   ]
  },
  {
   "cell_type": "code",
   "execution_count": 27,
   "id": "581d1576",
   "metadata": {},
   "outputs": [],
   "source": [
    "cv = KFold(n_splits=5)\n",
    "scores = cross_val_score(reg, Xtr_vec, y_train, scoring='neg_mean_absolute_error', cv=cv)"
   ]
  },
  {
   "cell_type": "code",
   "execution_count": 28,
   "id": "b2546657",
   "metadata": {},
   "outputs": [
    {
     "name": "stdout",
     "output_type": "stream",
     "text": [
      "Mean MAE: 8817.498 (22.769)\n"
     ]
    }
   ],
   "source": [
    "scores = absolute(scores)\n",
    "print('Mean MAE: %.3f (%.3f)' % (scores.mean(), scores.std()) )"
   ]
  },
  {
   "cell_type": "code",
   "execution_count": null,
   "id": "18bd60ab",
   "metadata": {},
   "outputs": [],
   "source": [
    "\"\"\"\n",
    "Holdout\n",
    "\"\"\""
   ]
  },
  {
   "cell_type": "code",
   "execution_count": 29,
   "id": "a8968283",
   "metadata": {},
   "outputs": [
    {
     "data": {
      "text/plain": [
       "LinearRegression(normalize=True)"
      ]
     },
     "execution_count": 29,
     "metadata": {},
     "output_type": "execute_result"
    }
   ],
   "source": [
    "reg.fit(Xtr_vec, y_train)"
   ]
  },
  {
   "cell_type": "code",
   "execution_count": 30,
   "id": "adcf353a",
   "metadata": {},
   "outputs": [],
   "source": [
    "y_pred = reg.predict(Xte_vec)"
   ]
  },
  {
   "cell_type": "code",
   "execution_count": 31,
   "id": "1af88bea",
   "metadata": {},
   "outputs": [
    {
     "name": "stdout",
     "output_type": "stream",
     "text": [
      "MAE: 8454.812514771824 | MSE: 141284293.05195296 | RMSE: 11886.306955987337\n"
     ]
    }
   ],
   "source": [
    "mae = mean_absolute_error(y_test, y_pred)\n",
    "mse = mean_squared_error(y_test, y_pred)\n",
    "rmse = mean_squared_error(y_test, y_pred, squared=False)\n",
    "\n",
    "print(f\"MAE: {mae} | MSE: {mse} | RMSE: {rmse}\")"
   ]
  },
  {
   "cell_type": "markdown",
   "id": "047d6063",
   "metadata": {},
   "source": [
    "### XGBoost Regressor "
   ]
  },
  {
   "cell_type": "code",
   "execution_count": 41,
   "id": "0d987ef0",
   "metadata": {},
   "outputs": [],
   "source": [
    "xgbr = XGBRegressor(random_state=12)"
   ]
  },
  {
   "cell_type": "code",
   "execution_count": 42,
   "id": "2ac69923",
   "metadata": {},
   "outputs": [
    {
     "data": {
      "text/plain": [
       "'\\nKfold\\n'"
      ]
     },
     "execution_count": 42,
     "metadata": {},
     "output_type": "execute_result"
    }
   ],
   "source": [
    "\"\"\"\n",
    "Kfold\n",
    "\"\"\""
   ]
  },
  {
   "cell_type": "code",
   "execution_count": 43,
   "id": "3e3d378d",
   "metadata": {},
   "outputs": [],
   "source": [
    "cv = KFold(n_splits=5)\n",
    "scores = cross_val_score(xgbr, Xtr_vec, y_train, scoring='neg_mean_absolute_error', cv=cv)"
   ]
  },
  {
   "cell_type": "code",
   "execution_count": 44,
   "id": "656529e3",
   "metadata": {},
   "outputs": [
    {
     "name": "stdout",
     "output_type": "stream",
     "text": [
      "Mean MAE: 7896.183 (66.573)\n"
     ]
    }
   ],
   "source": [
    "scores = absolute(scores)\n",
    "print('Mean MAE: %.3f (%.3f)' % (scores.mean(), scores.std()) )"
   ]
  },
  {
   "cell_type": "code",
   "execution_count": 45,
   "id": "50c2ba81",
   "metadata": {},
   "outputs": [
    {
     "data": {
      "text/plain": [
       "'\\nHoldout\\n'"
      ]
     },
     "execution_count": 45,
     "metadata": {},
     "output_type": "execute_result"
    }
   ],
   "source": [
    "\"\"\"\n",
    "Holdout\n",
    "\"\"\""
   ]
  },
  {
   "cell_type": "code",
   "execution_count": 46,
   "id": "397a71dd",
   "metadata": {},
   "outputs": [
    {
     "data": {
      "text/plain": [
       "XGBRegressor(base_score=0.5, booster='gbtree', colsample_bylevel=1,\n",
       "             colsample_bynode=1, colsample_bytree=1, enable_categorical=False,\n",
       "             gamma=0, gpu_id=-1, importance_type=None,\n",
       "             interaction_constraints='', learning_rate=0.300000012,\n",
       "             max_delta_step=0, max_depth=6, min_child_weight=1, missing=nan,\n",
       "             monotone_constraints='()', n_estimators=100, n_jobs=8,\n",
       "             num_parallel_tree=1, predictor='auto', random_state=12,\n",
       "             reg_alpha=0, reg_lambda=1, scale_pos_weight=1, subsample=1,\n",
       "             tree_method='exact', validate_parameters=1, verbosity=None)"
      ]
     },
     "execution_count": 46,
     "metadata": {},
     "output_type": "execute_result"
    }
   ],
   "source": [
    "xgbr.fit(Xtr_vec, y_train)"
   ]
  },
  {
   "cell_type": "code",
   "execution_count": 47,
   "id": "54d1b0ad",
   "metadata": {},
   "outputs": [
    {
     "name": "stdout",
     "output_type": "stream",
     "text": [
      "Training score:  0.8092366976985482\n"
     ]
    }
   ],
   "source": [
    "score = xgbr.score(Xtr_vec, y_train)  \n",
    "print(\"Training score: \", score)"
   ]
  },
  {
   "cell_type": "code",
   "execution_count": 48,
   "id": "422fcc9f",
   "metadata": {},
   "outputs": [],
   "source": [
    "y_pred = xgbr.predict(Xte_vec)"
   ]
  },
  {
   "cell_type": "code",
   "execution_count": 49,
   "id": "06d95c94",
   "metadata": {},
   "outputs": [
    {
     "name": "stdout",
     "output_type": "stream",
     "text": [
      "MAE: 7943.081751657197 | MSE: 136057376.2495602 | RMSE: 11664.363516693065\n"
     ]
    }
   ],
   "source": [
    "mae = mean_absolute_error(y_test, y_pred)\n",
    "mse = mean_squared_error(y_test, y_pred)\n",
    "rmse = mean_squared_error(y_test, y_pred, squared=False)\n",
    "\n",
    "print(f\"MAE: {mae} | MSE: {mse} | RMSE: {rmse}\")"
   ]
  },
  {
   "cell_type": "markdown",
   "id": "2201f9dd",
   "metadata": {},
   "source": [
    "### SVR"
   ]
  },
  {
   "cell_type": "code",
   "execution_count": 76,
   "id": "e376b623",
   "metadata": {},
   "outputs": [],
   "source": [
    "svr = SVR(kernel='rbf', C=1.0, epsilon=0.2)"
   ]
  },
  {
   "cell_type": "code",
   "execution_count": 77,
   "id": "2cb16ad5",
   "metadata": {},
   "outputs": [
    {
     "data": {
      "text/plain": [
       "'\\nKfold\\n'"
      ]
     },
     "execution_count": 77,
     "metadata": {},
     "output_type": "execute_result"
    }
   ],
   "source": [
    "\"\"\"\n",
    "Kfold\n",
    "\"\"\""
   ]
  },
  {
   "cell_type": "code",
   "execution_count": null,
   "id": "65ff1650",
   "metadata": {},
   "outputs": [],
   "source": [
    "cv = KFold(n_splits=5)\n",
    "scores = cross_val_score(svr, Xtr_vec, y_train, scoring='neg_mean_absolute_error', cv=cv)"
   ]
  },
  {
   "cell_type": "code",
   "execution_count": null,
   "id": "4f8514b8",
   "metadata": {},
   "outputs": [],
   "source": [
    "scores = absolute(scores)\n",
    "print('Mean MAE: %.3f (%.3f)' % (scores.mean(), scores.std()) )"
   ]
  },
  {
   "cell_type": "code",
   "execution_count": 54,
   "id": "90585db3",
   "metadata": {},
   "outputs": [
    {
     "data": {
      "text/plain": [
       "'\\nHoldout\\n'"
      ]
     },
     "execution_count": 54,
     "metadata": {},
     "output_type": "execute_result"
    }
   ],
   "source": [
    "\"\"\"\n",
    "Holdout\n",
    "\"\"\""
   ]
  },
  {
   "cell_type": "code",
   "execution_count": 55,
   "id": "7898128f",
   "metadata": {},
   "outputs": [
    {
     "data": {
      "text/plain": [
       "SVR(epsilon=0.2, kernel='linear')"
      ]
     },
     "execution_count": 55,
     "metadata": {},
     "output_type": "execute_result"
    }
   ],
   "source": [
    "svr.fit(Xtr_vec, y_train)"
   ]
  },
  {
   "cell_type": "code",
   "execution_count": 56,
   "id": "f5148c6d",
   "metadata": {},
   "outputs": [],
   "source": [
    "y_pred = svr.predict(Xte_vec)"
   ]
  },
  {
   "cell_type": "code",
   "execution_count": 57,
   "id": "719bc5d1",
   "metadata": {},
   "outputs": [
    {
     "name": "stdout",
     "output_type": "stream",
     "text": [
      "MAE: 12934.77046820659 | MSE: 330628498.31186867 | RMSE: 18183.19274252651\n"
     ]
    }
   ],
   "source": [
    "mae = mean_absolute_error(y_test, y_pred)\n",
    "mse = mean_squared_error(y_test, y_pred)\n",
    "rmse = mean_squared_error(y_test, y_pred, squared=False)\n",
    "\n",
    "print(f\"MAE: {mae} | MSE: {mse} | RMSE: {rmse}\")"
   ]
  }
 ],
 "metadata": {
  "kernelspec": {
   "display_name": "Python 3",
   "language": "python",
   "name": "python3"
  },
  "language_info": {
   "codemirror_mode": {
    "name": "ipython",
    "version": 3
   },
   "file_extension": ".py",
   "mimetype": "text/x-python",
   "name": "python",
   "nbconvert_exporter": "python",
   "pygments_lexer": "ipython3",
   "version": "3.6.9"
  }
 },
 "nbformat": 4,
 "nbformat_minor": 5
}
